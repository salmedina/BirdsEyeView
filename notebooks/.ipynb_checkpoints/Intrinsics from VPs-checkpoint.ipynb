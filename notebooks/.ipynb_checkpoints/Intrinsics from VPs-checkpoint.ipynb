{
 "cells": [
  {
   "cell_type": "code",
   "execution_count": null,
   "metadata": {},
   "outputs": [],
   "source": [
    "import numpy as np\n",
    "from scipy.linalg import null_space, cholesky, inv"
   ]
  },
  {
   "cell_type": "code",
   "execution_count": null,
   "metadata": {},
   "outputs": [],
   "source": [
    "def calc_w(vp1, vp2, vp3):\n",
    "    x1, y1 = vp1\n",
    "    x2, y2 = vp2\n",
    "    x3, y3 = vp3\n",
    "    A = Matrix([[(x1*x2)+(y1*y2), x1+x2, y1+y2, 1],\n",
    "                   [(x1*x3)+(y1*y3), x1+x3, y1+y3, 1],\n",
    "                   [(x3*x2)+(y3*y2), x3+x2, y3*y2, 1]])\n",
    "    w = np.array(A.nullspace()).astype(np.float32)[0]\n",
    "    print(w)\n",
    "    w /= w[3]\n",
    "    return np.array([[w[0],  0,   w[1]],\n",
    "                     [0,    w[0], w[2]],\n",
    "                     [w[1], w[2], w[3]]], dtype=np.float32)"
   ]
  },
  {
   "cell_type": "code",
   "execution_count": null,
   "metadata": {},
   "outputs": [],
   "source": [
    "vp1 = (212, 2138)\n",
    "vp2 = (-49, 42)\n",
    "vp3 = (1105, 146)\n",
    "W = calc_w(vp1, vp2, vp3)\n",
    "W"
   ]
  },
  {
   "cell_type": "code",
   "execution_count": null,
   "metadata": {},
   "outputs": [],
   "source": [
    "K = inv(cholesky(W))\n",
    "K"
   ]
  }
 ],
 "metadata": {
  "kernelspec": {
   "display_name": "Python 3",
   "language": "python",
   "name": "python3"
  },
  "language_info": {
   "codemirror_mode": {
    "name": "ipython",
    "version": 3
   },
   "file_extension": ".py",
   "mimetype": "text/x-python",
   "name": "python",
   "nbconvert_exporter": "python",
   "pygments_lexer": "ipython3",
   "version": "3.7.4"
  }
 },
 "nbformat": 4,
 "nbformat_minor": 2
}
