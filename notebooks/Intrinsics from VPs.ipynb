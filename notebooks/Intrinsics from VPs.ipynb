{
 "cells": [
  {
   "cell_type": "code",
   "execution_count": 3,
   "metadata": {},
   "outputs": [],
   "source": [
    "import numpy as np\n",
    "from scipy.linalg import null_space, cholesky, inv"
   ]
  },
  {
   "cell_type": "markdown",
   "metadata": {},
   "source": [
    "## $\\omega$ calculation\n",
    "\n",
    "If we consider that the camera has square pixels and no skewness in the les, we can define $\\omega$ is of the form:\n",
    "$$\n",
    "\\omega = \n",
    "\\begin{bmatrix}\n",
    "\\omega_1   &   0          & \\omega_2 \\\\\n",
    "0          &   \\omega_1   & \\omega_3 \\\\\n",
    "\\omega_2   &   \\omega_3   & \\omega_4 \n",
    "\\end{bmatrix}\n",
    "$$\n",
    "\n",
    "Where $\\omega$ is defined as $\\omega = (KK^{T})^{-1}$\n",
    "\n",
    "Since the vanishing points are orthogonal by definition, we calculate the matrix $\\omega$ as the null space of A for the system of equations:\n",
    "$$ V_1^{T} \\omega V2 = 0 $$\n",
    "$$ V_1^{T} \\omega V3 = 0 $$\n",
    "$$ V_3^{T} \\omega V2 = 0 $$\n",
    "\n",
    "Where the vanishing points are defined as:\n",
    "\n",
    "$$\n",
    "V_1 =\n",
    "\\begin{bmatrix}\n",
    "x_1 \\\\ \n",
    "y_1 \\\\ \n",
    "1\n",
    "\\end{bmatrix}\n",
    ";V_2 =\n",
    "\\begin{bmatrix}\n",
    "x_2 \\\\ \n",
    "y_2 \\\\ \n",
    "1\n",
    "\\end{bmatrix}\n",
    ";\n",
    "V_3 =\n",
    "\\begin{bmatrix}\n",
    "x_3 \\\\ \n",
    "y_3 \\\\ \n",
    "1\n",
    "\\end{bmatrix}\n",
    "$$\n",
    "\n",
    "This system can be rewritten in the form of $A\\omega = 0$ where $\\omega = [\\omega_1, \\omega_2, \\omega_3, \\omega_4]^{T}$ is in a vectorized form and $A$ is defined as:\n",
    "\n",
    "$$\n",
    "A \\omega =\n",
    "\\begin{bmatrix}\n",
    "x_1 x_2 + y_1 y_2   &   x_2 y_1+x_1   &   y_1 + y_2   &   1 \\\\\n",
    "x_1 x_3 + y_1 y_3   &   x_3 y_1+x_1   &   y_1 + y_3   &   1 \\\\\n",
    "x_3 x_2 + y_3 y_2   &   x_2 y_3+x_3   &   y_3 + y_2   &   1\n",
    "\\end{bmatrix}\n",
    "\\begin{bmatrix}\n",
    "\\omega_1 \\\\\n",
    "\\omega_2 \\\\\n",
    "\\omega_3 \\\\\n",
    "\\omega_4 \\\\\n",
    "\\end{bmatrix} =\n",
    "0\n",
    "$$"
   ]
  },
  {
   "cell_type": "code",
   "execution_count": 4,
   "metadata": {},
   "outputs": [],
   "source": [
    "def calc_w(vp1, vp2, vp3):\n",
    "    x1, y1 = vp1\n",
    "    x2, y2 = vp2\n",
    "    x3, y3 = vp3\n",
    "    A = np.array([[(x1*x2)+(y1*y2), x2*y1+x1, y1+y2, 1],\n",
    "                   [(x1*x3)+(y1*y3), x3*y1+x1, y1+y3, 1],\n",
    "                   [(x3*x2)+(y3*y2), x2*y3+x3, y3+y2, 1]])\n",
    "    w = null_space(A)\n",
    "    print(w)\n",
    "    w /= w[3]\n",
    "    return np.array([[w[0],  0,   w[1]],\n",
    "                     [0,    w[0], w[2]],\n",
    "                     [w[1], w[2], w[3]]], dtype=np.float32)"
   ]
  },
  {
   "cell_type": "code",
   "execution_count": 5,
   "metadata": {},
   "outputs": [
    {
     "name": "stdout",
     "output_type": "stream",
     "text": [
      "[[ 1.64898548e-05]\n",
      " [-3.07032838e-06]\n",
      " [-1.20661857e-03]\n",
      " [ 9.99999272e-01]]\n"
     ]
    },
    {
     "data": {
      "text/plain": [
       "array([[ 1.6489867e-05,  0.0000000e+00, -3.0703306e-06],\n",
       "       [ 0.0000000e+00,  1.6489867e-05, -1.2066194e-03],\n",
       "       [-3.0703306e-06, -1.2066194e-03,  1.0000000e+00]], dtype=float32)"
      ]
     },
     "execution_count": 5,
     "metadata": {},
     "output_type": "execute_result"
    }
   ],
   "source": [
    "vp1 = (212, 2138)\n",
    "vp2 = (-49, 42)\n",
    "vp3 = (1105, 146)\n",
    "W = calc_w(vp1, vp2, vp3)\n",
    "W"
   ]
  },
  {
   "cell_type": "markdown",
   "metadata": {},
   "source": [
    "## K calculation\n",
    "Since $\\omega$ is defined as\n",
    "$$\n",
    "\\omega = (K K^T)^{-1}\n",
    "$$\n",
    "\n",
    "We can easily obtain the intrinsic parameters of the camer $K$ by decomposing $\\omega$ through the Cholesky factorization and obtaining its inverse."
   ]
  },
  {
   "cell_type": "code",
   "execution_count": 8,
   "metadata": {},
   "outputs": [
    {
     "data": {
      "text/plain": [
       "array([[ 2.3513597e+02, -0.0000000e+00,  1.8619499e-01],\n",
       "       [ 0.0000000e+00,  2.3513597e+02,  7.3173386e+01],\n",
       "       [ 0.0000000e+00,  0.0000000e+00,  1.0000000e+00]], dtype=float32)"
      ]
     },
     "execution_count": 8,
     "metadata": {},
     "output_type": "execute_result"
    }
   ],
   "source": [
    "K = inv(cholesky(W))\n",
    "K /= K[2][2]\n",
    "K"
   ]
  }
 ],
 "metadata": {
  "kernelspec": {
   "display_name": "Python 3",
   "language": "python",
   "name": "python3"
  },
  "language_info": {
   "codemirror_mode": {
    "name": "ipython",
    "version": 3
   },
   "file_extension": ".py",
   "mimetype": "text/x-python",
   "name": "python",
   "nbconvert_exporter": "python",
   "pygments_lexer": "ipython3",
   "version": "3.7.4"
  }
 },
 "nbformat": 4,
 "nbformat_minor": 2
}
