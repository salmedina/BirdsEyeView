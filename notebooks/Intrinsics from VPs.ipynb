{
 "cells": [
  {
   "cell_type": "code",
   "execution_count": 1,
   "metadata": {},
   "outputs": [],
   "source": [
    "import numpy as np\n",
    "from scipy.linalg import null_space, cholesky, inv"
   ]
  },
  {
   "cell_type": "code",
   "execution_count": 15,
   "metadata": {},
   "outputs": [],
   "source": [
    "def calc_w(vp1, vp2, vp3):\n",
    "    x1, y1 = vp1\n",
    "    x2, y2 = vp2\n",
    "    x3, y3 = vp3\n",
    "    A = np.array([[(x1*x2)+(y1*y2), x1+x2, y1+y2, 1],\n",
    "                   [(x1*x3)+(y1*y3), x1+x3, y1+y3, 1],\n",
    "                   [(x3*x2)+(y3*y2), x3+x2, y3+y2, 1]])\n",
    "    w = null_space(A)\n",
    "    print(w)\n",
    "    w /= w[3]\n",
    "    return np.array([[w[0],  0,   w[1]],\n",
    "                     [0,    w[0], w[2]],\n",
    "                     [w[1], w[2], w[3]]], dtype=np.float32)"
   ]
  },
  {
   "cell_type": "code",
   "execution_count": 16,
   "metadata": {},
   "outputs": [
    {
     "name": "stdout",
     "output_type": "stream",
     "text": [
      "[[ 2.01106375e-06]\n",
      " [-7.71090140e-04]\n",
      " [-4.74314884e-04]\n",
      " [ 9.99999590e-01]]\n"
     ]
    },
    {
     "data": {
      "text/plain": [
       "array([[ 2.0110647e-06,  0.0000000e+00, -7.7109045e-04],\n",
       "       [ 0.0000000e+00,  2.0110647e-06, -4.7431508e-04],\n",
       "       [-7.7109045e-04, -4.7431508e-04,  1.0000000e+00]], dtype=float32)"
      ]
     },
     "execution_count": 16,
     "metadata": {},
     "output_type": "execute_result"
    }
   ],
   "source": [
    "vp1 = (212, 2138)\n",
    "vp2 = (-49, 42)\n",
    "vp3 = (1105, 146)\n",
    "W = calc_w(vp1, vp2, vp3)\n",
    "W"
   ]
  },
  {
   "cell_type": "code",
   "execution_count": 20,
   "metadata": {},
   "outputs": [
    {
     "data": {
      "text/plain": [
       "array([[542.77856,  -0.     , 383.42398],\n",
       "       [  0.     , 542.77856, 235.85274],\n",
       "       [  0.     ,   0.     ,   1.     ]], dtype=float32)"
      ]
     },
     "execution_count": 20,
     "metadata": {},
     "output_type": "execute_result"
    }
   ],
   "source": [
    "K = inv(cholesky(W))\n",
    "K/=K[2][2]\n",
    "K"
   ]
  }
 ],
 "metadata": {
  "kernelspec": {
   "display_name": "Python 3",
   "language": "python",
   "name": "python3"
  },
  "language_info": {
   "codemirror_mode": {
    "name": "ipython",
    "version": 3
   },
   "file_extension": ".py",
   "mimetype": "text/x-python",
   "name": "python",
   "nbconvert_exporter": "python",
   "pygments_lexer": "ipython3",
   "version": "3.7.4"
  }
 },
 "nbformat": 4,
 "nbformat_minor": 2
}
